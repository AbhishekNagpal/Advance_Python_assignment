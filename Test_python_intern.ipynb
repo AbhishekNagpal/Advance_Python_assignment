{
 "cells": [
  {
   "cell_type": "markdown",
   "metadata": {},
   "source": [
    "# Task - 1"
   ]
  },
  {
   "cell_type": "raw",
   "metadata": {},
   "source": [
    "Write a Python function calculate_area that takes two parameters: length and width. It\n",
    "should calculate and return the area of a rectangle. However, add a condition: if the length\n",
    "is equal to the width, return \"This is a square!\" instead of the area. Then, write a program to\n",
    "input values for length and width from the user and call the calculate_area function to\n",
    "display either the area or the message."
   ]
  },
  {
   "cell_type": "code",
   "execution_count": 1,
   "metadata": {},
   "outputs": [
    {
     "name": "stdout",
     "output_type": "stream",
     "text": [
      "Enter the length: 4\n",
      "Enter the width: 5\n",
      "Area: 20.0\n"
     ]
    }
   ],
   "source": [
    "def calculate_area(length, width):\n",
    "    if length == width:\n",
    "        return \"This is a square!\"\n",
    "    else:\n",
    "        return length * width\n",
    "\n",
    "\n",
    "length = float(input(\"Enter the length: \"))\n",
    "width = float(input(\"Enter the width: \"))\n",
    "ans = calculate_area(length, width)\n",
    "if type(ans)!= str:\n",
    "    print(\"Area:\",ans)\n",
    "else:\n",
    "    print(ans)\n"
   ]
  },
  {
   "cell_type": "markdown",
   "metadata": {},
   "source": [
    "# Task 2"
   ]
  },
  {
   "cell_type": "raw",
   "metadata": {},
   "source": [
    "Problem Statement:\n",
    "Write a Python program that generates the Fibonacci sequence up to a specified number of\n",
    "terms, n. The Fibonacci sequence starts with 0 and 1, and each subsequent number in the\n",
    "sequence is the sum of the two preceding numbers (e.g., 0, 1, 1, 2, 3, 5, 8, ...). Prompt the\n",
    "user to enter the number of terms (n) they want in the sequence and then display the\n",
    "Fibonacci sequence up to that number of terms."
   ]
  },
  {
   "cell_type": "code",
   "execution_count": 2,
   "metadata": {},
   "outputs": [
    {
     "name": "stdout",
     "output_type": "stream",
     "text": [
      "Enter the number of terms: 6\n",
      "Fibonacci sequence up to 6 terms: [0, 1, 1, 2, 3, 5]\n"
     ]
    }
   ],
   "source": [
    "def generate_fibonacci(n):\n",
    "    fib_seq = [0, 1]\n",
    "    if n == 0:\n",
    "        return []\n",
    "    elif n == 1:\n",
    "        return [0]\n",
    "    elif n == 2:\n",
    "        return fib_seq\n",
    "    \n",
    "    for i in range(2, n):\n",
    "        new_number = fib_seq[-1] + fib_seq[-2]\n",
    "        fib_seq.append(new_number)\n",
    "    \n",
    "    return fib_seq\n",
    "\n",
    "n = int(input(\"Enter the number of terms: \"))\n",
    "fib_seq = generate_fibonacci(n)    \n",
    "print(\"Fibonacci sequence up to\", n, \"terms:\",fib_seq)"
   ]
  },
  {
   "cell_type": "markdown",
   "metadata": {},
   "source": [
    "# Task- 3"
   ]
  },
  {
   "cell_type": "raw",
   "metadata": {},
   "source": [
    "Problem Statement:\n",
    "Your task is to write a Python program that accomplishes the following:\n",
    "First create a database , table and add these column ‘student_id’, ‘first_name’, ‘last_name’,\n",
    "‘age’, ‘grade’.\n",
    "Connects to your MySQL database with python.\n",
    "Inserts a new student record into the \"students\" table with the following details:\n",
    "First Name: \"Alice\"\n",
    "Last Name: \"Smith\"\n",
    "Age: 18\n",
    "Grade: 95.5\n",
    "Updates the grade of the student with the first name \"Alice\" to 97.0.\n",
    "Deletes the student with the last name \"Smith.\"\n",
    "Fetches and displays all student records from the \"students\" table."
   ]
  },
  {
   "cell_type": "code",
   "execution_count": 3,
   "metadata": {},
   "outputs": [
    {
     "name": "stdout",
     "output_type": "stream",
     "text": [
      "Requirement already satisfied: mysql-connector-python in /opt/anaconda3/lib/python3.8/site-packages (8.0.25)\n",
      "Requirement already satisfied: protobuf>=3.0.0 in /opt/anaconda3/lib/python3.8/site-packages (from mysql-connector-python) (3.19.4)\n",
      "Note: you may need to restart the kernel to use updated packages.\n"
     ]
    }
   ],
   "source": [
    "pip install mysql-connector-python"
   ]
  },
  {
   "cell_type": "code",
   "execution_count": 4,
   "metadata": {},
   "outputs": [],
   "source": [
    "import mysql.connector as conn"
   ]
  },
  {
   "cell_type": "code",
   "execution_count": 5,
   "metadata": {},
   "outputs": [],
   "source": [
    "mydb=conn.connect(host='localhost',user = 'root',passwd = 'MYmac30112001')"
   ]
  },
  {
   "cell_type": "code",
   "execution_count": 6,
   "metadata": {},
   "outputs": [
    {
     "data": {
      "text/plain": [
       "<mysql.connector.connection.MySQLConnection at 0x7f8609797c40>"
      ]
     },
     "execution_count": 6,
     "metadata": {},
     "output_type": "execute_result"
    }
   ],
   "source": [
    "mydb"
   ]
  },
  {
   "cell_type": "code",
   "execution_count": 7,
   "metadata": {},
   "outputs": [],
   "source": [
    "cursor = mydb.cursor()"
   ]
  },
  {
   "cell_type": "code",
   "execution_count": 8,
   "metadata": {},
   "outputs": [],
   "source": [
    "cursor.execute('show databases')"
   ]
  },
  {
   "cell_type": "code",
   "execution_count": 9,
   "metadata": {},
   "outputs": [
    {
     "data": {
      "text/plain": [
       "[('CLASS',),\n",
       " ('CLIENT',),\n",
       " ('eia_test',),\n",
       " ('information_schema',),\n",
       " ('mysql',),\n",
       " ('ORG',),\n",
       " ('performance_schema',),\n",
       " ('practice_pyhton',),\n",
       " ('sales',),\n",
       " ('sql_lab',),\n",
       " ('sys',),\n",
       " ('Test_Python',),\n",
       " ('testsudhineuron',),\n",
       " ('testsudhineuron1',)]"
      ]
     },
     "execution_count": 9,
     "metadata": {},
     "output_type": "execute_result"
    }
   ],
   "source": [
    "cursor.fetchall()"
   ]
  },
  {
   "cell_type": "code",
   "execution_count": 10,
   "metadata": {},
   "outputs": [],
   "source": [
    "## creating Database named - Test_Python\n",
    "cursor.execute('create database Test_Python_Intern')"
   ]
  },
  {
   "cell_type": "code",
   "execution_count": 11,
   "metadata": {},
   "outputs": [],
   "source": [
    "cursor.execute('use Test_Python_Intern')"
   ]
  },
  {
   "cell_type": "code",
   "execution_count": 12,
   "metadata": {},
   "outputs": [],
   "source": [
    "cursor.execute('create Table student(student_id INT(10),first_name VARCHAR(30),last_name VARCHAR(30),age INT(5),grade FLOAT(10))')"
   ]
  },
  {
   "cell_type": "code",
   "execution_count": 13,
   "metadata": {},
   "outputs": [],
   "source": [
    "cursor.execute(\"show tables\")"
   ]
  },
  {
   "cell_type": "code",
   "execution_count": 14,
   "metadata": {},
   "outputs": [
    {
     "data": {
      "text/plain": [
       "[('student',)]"
      ]
     },
     "execution_count": 14,
     "metadata": {},
     "output_type": "execute_result"
    }
   ],
   "source": [
    "cursor.fetchall()  ## we see table is created"
   ]
  },
  {
   "cell_type": "code",
   "execution_count": 15,
   "metadata": {},
   "outputs": [],
   "source": [
    "cursor.execute('insert into student values(001,\"Alice\",\"Smith\",18,95.5)')"
   ]
  },
  {
   "cell_type": "code",
   "execution_count": 16,
   "metadata": {},
   "outputs": [],
   "source": [
    "mydb.commit()"
   ]
  },
  {
   "cell_type": "code",
   "execution_count": 17,
   "metadata": {},
   "outputs": [],
   "source": [
    "cursor.execute(\"select * from student\")"
   ]
  },
  {
   "cell_type": "code",
   "execution_count": 18,
   "metadata": {},
   "outputs": [
    {
     "data": {
      "text/plain": [
       "[(1, 'Alice', 'Smith', 18, 95.5)]"
      ]
     },
     "execution_count": 18,
     "metadata": {},
     "output_type": "execute_result"
    }
   ],
   "source": [
    "cursor.fetchall()"
   ]
  },
  {
   "cell_type": "code",
   "execution_count": 19,
   "metadata": {},
   "outputs": [],
   "source": [
    "## updating the grade\n",
    "cursor.execute(\"UPDATE student SET grade = 97.0 WHERE first_name = 'Alice'\")"
   ]
  },
  {
   "cell_type": "code",
   "execution_count": 20,
   "metadata": {},
   "outputs": [],
   "source": [
    "mydb.commit()"
   ]
  },
  {
   "cell_type": "code",
   "execution_count": 21,
   "metadata": {},
   "outputs": [],
   "source": [
    "cursor.execute(\"select * from student\")"
   ]
  },
  {
   "cell_type": "code",
   "execution_count": 22,
   "metadata": {},
   "outputs": [
    {
     "data": {
      "text/plain": [
       "[(1, 'Alice', 'Smith', 18, 97.0)]"
      ]
     },
     "execution_count": 22,
     "metadata": {},
     "output_type": "execute_result"
    }
   ],
   "source": [
    "cursor.fetchall()"
   ]
  },
  {
   "cell_type": "code",
   "execution_count": 23,
   "metadata": {},
   "outputs": [],
   "source": [
    "## observation - grade is updated"
   ]
  },
  {
   "cell_type": "code",
   "execution_count": 24,
   "metadata": {},
   "outputs": [],
   "source": [
    "## deleting record with last_name as Smith\n",
    "cursor.execute(\"DELETE FROM student WHERE last_name = 'Smith'\")"
   ]
  },
  {
   "cell_type": "code",
   "execution_count": 25,
   "metadata": {},
   "outputs": [],
   "source": [
    "mydb.commit()"
   ]
  },
  {
   "cell_type": "code",
   "execution_count": 26,
   "metadata": {},
   "outputs": [],
   "source": [
    "## fetching records from table\n",
    "cursor.execute(\"select * from student\")"
   ]
  },
  {
   "cell_type": "code",
   "execution_count": 27,
   "metadata": {},
   "outputs": [
    {
     "data": {
      "text/plain": [
       "[]"
      ]
     },
     "execution_count": 27,
     "metadata": {},
     "output_type": "execute_result"
    }
   ],
   "source": [
    "cursor.fetchall()"
   ]
  },
  {
   "cell_type": "code",
   "execution_count": null,
   "metadata": {},
   "outputs": [],
   "source": []
  }
 ],
 "metadata": {
  "kernelspec": {
   "display_name": "Python 3",
   "language": "python",
   "name": "python3"
  },
  "language_info": {
   "codemirror_mode": {
    "name": "ipython",
    "version": 3
   },
   "file_extension": ".py",
   "mimetype": "text/x-python",
   "name": "python",
   "nbconvert_exporter": "python",
   "pygments_lexer": "ipython3",
   "version": "3.8.5"
  }
 },
 "nbformat": 4,
 "nbformat_minor": 4
}
